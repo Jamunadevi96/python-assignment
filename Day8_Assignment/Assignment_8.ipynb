{
 "cells": [
  {
   "cell_type": "markdown",
   "metadata": {},
   "source": [
    "# 1.Decorator function for factorial series"
   ]
  },
  {
   "cell_type": "code",
   "execution_count": 9,
   "metadata": {},
   "outputs": [],
   "source": [
    "def getInput(calculate_arg_fun):\n",
    "    def wrap_function():\n",
    "        print(\"Hey enter the number\")\n",
    "        a = int(input(\"Enter your first Number - \"))        \n",
    "        calculate_arg_fun(a)   \n",
    "    return wrap_function"
   ]
  },
  {
   "cell_type": "code",
   "execution_count": 10,
   "metadata": {},
   "outputs": [],
   "source": [
    "@getInput\n",
    "def factorial(num):\n",
    "    fact = 1\n",
    "    if num < 0:\n",
    "        print(\"Sorry, factorial does not exist for negative numbers\")\n",
    "    elif num == 0:\n",
    "        print(\"The factorial of 0 is 1\")\n",
    "    else:\n",
    "        for item in range(1,num+1):\n",
    "            fact= fact*item;    \n",
    "        print(\"factorial - \",fact)\n",
    "    "
   ]
  },
  {
   "cell_type": "code",
   "execution_count": 11,
   "metadata": {},
   "outputs": [
    {
     "name": "stdout",
     "output_type": "stream",
     "text": [
      "Hey enter the number\n",
      "Enter your first Number - 3\n",
      "factorial -  6\n"
     ]
    }
   ],
   "source": [
    "factorial()"
   ]
  },
  {
   "cell_type": "markdown",
   "metadata": {},
   "source": [
    "# 2. Exception Handling in File"
   ]
  },
  {
   "cell_type": "code",
   "execution_count": 23,
   "metadata": {},
   "outputs": [
    {
     "name": "stdout",
     "output_type": "stream",
     "text": [
      "hello guys. This is Letsupgrade lecture time.\n",
      "Exception Handled.....\n"
     ]
    }
   ],
   "source": [
    "try:\n",
    "    file = open(\"Letsupgrade.txt\",\"r\");\n",
    "    filedata = file.read();\n",
    "    print(filedata);\n",
    "    file.write(\"Hello\")\n",
    "    file.close();\n",
    "except:\n",
    "    print(\"Exception Handled.....\")\n"
   ]
  },
  {
   "cell_type": "code",
   "execution_count": null,
   "metadata": {},
   "outputs": [],
   "source": []
  }
 ],
 "metadata": {
  "kernelspec": {
   "display_name": "Python 3",
   "language": "python",
   "name": "python3"
  },
  "language_info": {
   "codemirror_mode": {
    "name": "ipython",
    "version": 3
   },
   "file_extension": ".py",
   "mimetype": "text/x-python",
   "name": "python",
   "nbconvert_exporter": "python",
   "pygments_lexer": "ipython3",
   "version": "3.8.3"
  }
 },
 "nbformat": 4,
 "nbformat_minor": 4
}
