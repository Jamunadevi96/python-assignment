{
 "cells": [
  {
   "cell_type": "markdown",
   "metadata": {},
   "source": [
    "# 1.Class to check Account balance and to Withdraw\n"
   ]
  },
  {
   "cell_type": "code",
   "execution_count": 61,
   "metadata": {},
   "outputs": [],
   "source": [
    "class checkAccount():\n",
    "    def __init__(self,ownername,balance):\n",
    "        self.ownername = ownername\n",
    "        self.balance   = balance\n",
    "        \n",
    "    def deposit(self):            \n",
    "        print(self.balance)\n",
    "        amount= int(input(\"Enter the amount to deposit:\"))\n",
    "        self.balance+=amount\n",
    "        print(\"Your New Balance---\",self.balance)\n",
    "                           \n",
    "        \n",
    "    def withdraw(self):\n",
    "        withdraw_amount = int(input(\"Enter the amount to withdraw:\"))\n",
    "        if withdraw_amount > self.balance :\n",
    "            print(\"Insufficient Balance!\")  \n",
    "                \n",
    "        else:\n",
    "            self.balance-= withdraw_amount\n",
    "            print('Your Remaining Balance ',self.balance)  \n",
    "                         \n",
    "                \n",
    "\n"
   ]
  },
  {
   "cell_type": "code",
   "execution_count": 62,
   "metadata": {},
   "outputs": [],
   "source": [
    "\n",
    "account= checkAccount(\"jamuna\",50000000)\n"
   ]
  },
  {
   "cell_type": "code",
   "execution_count": 63,
   "metadata": {},
   "outputs": [
    {
     "name": "stdout",
     "output_type": "stream",
     "text": [
      "50000000\n",
      "Enter the amount to deposit:50000\n",
      "Your New Balance--- 50050000\n"
     ]
    }
   ],
   "source": [
    "account.deposit()"
   ]
  },
  {
   "cell_type": "code",
   "execution_count": 64,
   "metadata": {},
   "outputs": [
    {
     "name": "stdout",
     "output_type": "stream",
     "text": [
      "Enter the amount to withdraw:500000\n",
      "Your Remaining Balance  49550000\n"
     ]
    }
   ],
   "source": [
    "account.withdraw()"
   ]
  },
  {
   "cell_type": "markdown",
   "metadata": {},
   "source": [
    "# 2.Cone Surface Area and Volume"
   ]
  },
  {
   "cell_type": "code",
   "execution_count": 80,
   "metadata": {},
   "outputs": [],
   "source": [
    "import math\n",
    "class cone():\n",
    "    def __init__(self,radius,height):\n",
    "        self.radius = radius\n",
    "        self.height = height\n",
    "        \n",
    "    def volume(self):  \n",
    "        value = 3.14 *self.radius*self.radius* self.height ;\n",
    "        Volume = value//3\n",
    "        print(Volume);        \n",
    "    \n",
    "    def surface_area(self): \n",
    "        square_root  = math.sqrt(self.radius *self.radius+ self.height * self.height)\n",
    "        surface_area = 3.14 * self.radius * (self.radius+square_root)\n",
    "        print(surface_area);      \n",
    "    \n",
    "    \n",
    "    \n",
    "        "
   ]
  },
  {
   "cell_type": "code",
   "execution_count": 81,
   "metadata": {},
   "outputs": [],
   "source": [
    "cone_details= cone(25,50)"
   ]
  },
  {
   "cell_type": "code",
   "execution_count": 82,
   "metadata": {},
   "outputs": [
    {
     "name": "stdout",
     "output_type": "stream",
     "text": [
      "6350.783405843337\n"
     ]
    }
   ],
   "source": [
    "cone_details.surface_area()"
   ]
  },
  {
   "cell_type": "code",
   "execution_count": 83,
   "metadata": {},
   "outputs": [
    {
     "name": "stdout",
     "output_type": "stream",
     "text": [
      "32708.0\n"
     ]
    }
   ],
   "source": [
    "cone_details.volume()"
   ]
  },
  {
   "cell_type": "code",
   "execution_count": null,
   "metadata": {},
   "outputs": [],
   "source": []
  }
 ],
 "metadata": {
  "kernelspec": {
   "display_name": "Python 3",
   "language": "python",
   "name": "python3"
  },
  "language_info": {
   "codemirror_mode": {
    "name": "ipython",
    "version": 3
   },
   "file_extension": ".py",
   "mimetype": "text/x-python",
   "name": "python",
   "nbconvert_exporter": "python",
   "pygments_lexer": "ipython3",
   "version": "3.8.3"
  }
 },
 "nbformat": 4,
 "nbformat_minor": 4
}
