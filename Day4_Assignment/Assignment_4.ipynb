{
 "cells": [
  {
   "cell_type": "code",
   "execution_count": 5,
   "metadata": {},
   "outputs": [
    {
     "name": "stdout",
     "output_type": "stream",
     "text": [
      "the first armstrong number--\n"
     ]
    }
   ],
   "source": [
    "for item in range(1042000,702648265):\n",
    "    temp = item\n",
    "    sum=0\n",
    "    while temp>0:\n",
    "        digit = temp%10\n",
    "        sum=sum+(digit*digit*digit)\n",
    "        temp = temp//10;\n",
    "    if(item==sum):\n",
    "        print(\"the first armstrong number--\")\n",
    "        break;\n",
    "    "
   ]
  },
  {
   "cell_type": "code",
   "execution_count": null,
   "metadata": {},
   "outputs": [],
   "source": []
  }
 ],
 "metadata": {
  "kernelspec": {
   "display_name": "Python 3",
   "language": "python",
   "name": "python3"
  },
  "language_info": {
   "codemirror_mode": {
    "name": "ipython",
    "version": 3
   },
   "file_extension": ".py",
   "mimetype": "text/x-python",
   "name": "python",
   "nbconvert_exporter": "python",
   "pygments_lexer": "ipython3",
   "version": "3.8.3"
  }
 },
 "nbformat": 4,
 "nbformat_minor": 4
}
