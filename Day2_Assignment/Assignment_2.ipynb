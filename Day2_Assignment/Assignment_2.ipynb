{
 "cells": [
  {
   "cell_type": "markdown",
   "metadata": {},
   "source": [
    "# List Functions"
   ]
  },
  {
   "cell_type": "code",
   "execution_count": 4,
   "metadata": {},
   "outputs": [
    {
     "name": "stdout",
     "output_type": "stream",
     "text": [
      "['mango', 'orange', 'apple', 'plum', 'pome']\n"
     ]
    }
   ],
   "source": [
    "# 1.Append\n",
    "\n",
    "list1 = ['mango','orange','apple','plum']\n",
    "list1.append('pome');\n",
    "print(list1)"
   ]
  },
  {
   "cell_type": "code",
   "execution_count": 5,
   "metadata": {},
   "outputs": [
    {
     "name": "stdout",
     "output_type": "stream",
     "text": [
      "5\n"
     ]
    }
   ],
   "source": [
    "# 2.count\n",
    "\n",
    "print( len(list1))"
   ]
  },
  {
   "cell_type": "code",
   "execution_count": 26,
   "metadata": {},
   "outputs": [
    {
     "name": "stdout",
     "output_type": "stream",
     "text": [
      "['potato', 'tomato', 'brinjal', 'carrot', 'potato', 'tomato', 'brinjal', 'carrot']\n"
     ]
    }
   ],
   "source": [
    "# 3.extend\n",
    "\n",
    "list2 = ['potato','tomato','brinjal','carrot']\n",
    "list1.extend(list2)\n",
    "print(list1)\n"
   ]
  },
  {
   "cell_type": "code",
   "execution_count": 29,
   "metadata": {},
   "outputs": [
    {
     "name": "stdout",
     "output_type": "stream",
     "text": [
      "2\n"
     ]
    }
   ],
   "source": [
    "# 4.index\n",
    "\n",
    "print(list2.index('brinjal'))"
   ]
  },
  {
   "cell_type": "code",
   "execution_count": 31,
   "metadata": {},
   "outputs": [
    {
     "name": "stdout",
     "output_type": "stream",
     "text": [
      "['potato', 'tomato', 'beetroot', 'brinjal', 'carrot']\n"
     ]
    }
   ],
   "source": [
    "# 5.insert\n",
    "\n",
    "list2.insert(2,'beetroot')\n",
    "print(list2)"
   ]
  },
  {
   "cell_type": "code",
   "execution_count": 32,
   "metadata": {},
   "outputs": [
    {
     "name": "stdout",
     "output_type": "stream",
     "text": [
      "['potato', 'tomato', 'beetroot', 'brinjal']\n"
     ]
    }
   ],
   "source": [
    "# 6. pop\n",
    "\n",
    "list2.pop()\n",
    "print(list2)"
   ]
  },
  {
   "cell_type": "code",
   "execution_count": 35,
   "metadata": {},
   "outputs": [
    {
     "name": "stdout",
     "output_type": "stream",
     "text": [
      "['potato', 'tomato', 'beetroot', 'brinjal']\n",
      "['potato', 'beetroot', 'brinjal']\n"
     ]
    }
   ],
   "source": [
    "# 7. remove\n",
    "\n",
    "print(list2);\n",
    "list2.remove('tomato');\n",
    "print(list2);"
   ]
  },
  {
   "cell_type": "code",
   "execution_count": 37,
   "metadata": {},
   "outputs": [
    {
     "name": "stdout",
     "output_type": "stream",
     "text": [
      "['brinjal', 'beetroot', 'potato']\n",
      "['potato', 'beetroot', 'brinjal']\n"
     ]
    }
   ],
   "source": [
    "# 8.reverse\n",
    "\n",
    "print(list2)\n",
    "list2.reverse()\n",
    "print(list2)"
   ]
  },
  {
   "cell_type": "code",
   "execution_count": 38,
   "metadata": {},
   "outputs": [
    {
     "name": "stdout",
     "output_type": "stream",
     "text": [
      "['beetroot', 'brinjal', 'potato']\n"
     ]
    }
   ],
   "source": [
    "# 9.sort\n",
    "\n",
    "list2.sort();\n",
    "print(list2)"
   ]
  },
  {
   "cell_type": "markdown",
   "metadata": {},
   "source": [
    "# Dictionary Functions\n"
   ]
  },
  {
   "cell_type": "code",
   "execution_count": 39,
   "metadata": {},
   "outputs": [
    {
     "name": "stdout",
     "output_type": "stream",
     "text": [
      "{'Name': 'Zara', 'Age': 10}\n",
      "{}\n"
     ]
    }
   ],
   "source": [
    "# 1. clear\n",
    "\n",
    "dict1 = {'Name' : 'Zara', 'Age' : 10}\n",
    "print(dict1);\n",
    "dict1.clear()\n",
    "print(dict1);\n"
   ]
  },
  {
   "cell_type": "code",
   "execution_count": 41,
   "metadata": {},
   "outputs": [
    {
     "name": "stdout",
     "output_type": "stream",
     "text": [
      "{'Name': 'Zara', 'Age': 10}\n"
     ]
    }
   ],
   "source": [
    "# 2.copy\n",
    "\n",
    "dict1 = {'Name' : 'Zara', 'Age' : 10}\n",
    "dict2=dict1.copy();\n",
    "print(dict2);"
   ]
  },
  {
   "cell_type": "code",
   "execution_count": 43,
   "metadata": {},
   "outputs": [
    {
     "name": "stdout",
     "output_type": "stream",
     "text": [
      "{'name': None, 'age': None, 'gender': None}\n",
      "{'name': 10, 'age': 10, 'gender': 10}\n"
     ]
    }
   ],
   "source": [
    "# 3. dict.fromkeys\n",
    "\n",
    "seq = ('name','age','gender')\n",
    "dict = dict.fromkeys(seq);\n",
    "print(dict)\n",
    "dict = dict.fromkeys(seq,10)\n",
    "print(dict)"
   ]
  },
  {
   "cell_type": "code",
   "execution_count": 51,
   "metadata": {},
   "outputs": [
    {
     "name": "stdout",
     "output_type": "stream",
     "text": [
      "Zara\n",
      "None\n"
     ]
    }
   ],
   "source": [
    "#4. dict.get\n",
    "\n",
    "print(dict1.get('Name'))\n",
    "print(dict1.get('Gender','None'))\n"
   ]
  },
  {
   "cell_type": "code",
   "execution_count": 58,
   "metadata": {},
   "outputs": [],
   "source": [
    "# 5. has_key\n",
    "\n",
    "# print(dict1.has_key('Name'))\n",
    "# print(dict1.has_key('Gender','None'))"
   ]
  },
  {
   "cell_type": "code",
   "execution_count": 53,
   "metadata": {},
   "outputs": [
    {
     "name": "stdout",
     "output_type": "stream",
     "text": [
      "dict_items([('Name', 'Zara'), ('Age', 10)])\n"
     ]
    }
   ],
   "source": [
    "# 6. items\n",
    "\n",
    "print(dict1.items())"
   ]
  },
  {
   "cell_type": "code",
   "execution_count": 55,
   "metadata": {},
   "outputs": [
    {
     "name": "stdout",
     "output_type": "stream",
     "text": [
      "dict_keys(['Name', 'Age'])\n"
     ]
    }
   ],
   "source": [
    "#7 .keys\n",
    "\n",
    "print(dict1.keys())"
   ]
  },
  {
   "cell_type": "code",
   "execution_count": 56,
   "metadata": {},
   "outputs": [
    {
     "name": "stdout",
     "output_type": "stream",
     "text": [
      "dict_values(['Zara', 10])\n"
     ]
    }
   ],
   "source": [
    "# 8.values\n",
    "\n",
    "print(dict1.values())"
   ]
  },
  {
   "cell_type": "code",
   "execution_count": 57,
   "metadata": {},
   "outputs": [
    {
     "name": "stdout",
     "output_type": "stream",
     "text": [
      "{'Name': 'Zara', 'Age': 10, 'Gender': 'Female'}\n"
     ]
    }
   ],
   "source": [
    "# 9.update\n",
    "\n",
    "dict3 = {'Gender' : 'Female'}\n",
    "dict1.update(dict3)\n",
    "print(dict1);"
   ]
  },
  {
   "cell_type": "markdown",
   "metadata": {},
   "source": [
    "# Tuple Functions\n"
   ]
  },
  {
   "cell_type": "code",
   "execution_count": 63,
   "metadata": {},
   "outputs": [
    {
     "name": "stdout",
     "output_type": "stream",
     "text": [
      "4\n"
     ]
    }
   ],
   "source": [
    "# 1. cmp\n",
    "\n",
    "tup1 = (123,'xyz','asf',456)\n",
    "print(len(tup1))"
   ]
  },
  {
   "cell_type": "code",
   "execution_count": 67,
   "metadata": {},
   "outputs": [
    {
     "name": "stdout",
     "output_type": "stream",
     "text": [
      "857\n"
     ]
    }
   ],
   "source": [
    "# 2.max\n",
    "\n",
    "tup2 = (123,456,857,456)\n",
    "print(max(tup2))"
   ]
  },
  {
   "cell_type": "code",
   "execution_count": 68,
   "metadata": {},
   "outputs": [
    {
     "name": "stdout",
     "output_type": "stream",
     "text": [
      "123\n"
     ]
    }
   ],
   "source": [
    "# 3. min\n",
    "\n",
    "print(min(tup2))"
   ]
  },
  {
   "cell_type": "code",
   "execution_count": 70,
   "metadata": {},
   "outputs": [
    {
     "name": "stdout",
     "output_type": "stream",
     "text": [
      "['beetroot', 'brinjal', 'potato']\n",
      "('beetroot', 'brinjal', 'potato')\n"
     ]
    }
   ],
   "source": [
    "# 4.tuple(seq)\n",
    "# convert list to tuple \n",
    "\n",
    "print(list2)\n",
    "print(tuple(list2))"
   ]
  },
  {
   "cell_type": "markdown",
   "metadata": {},
   "source": [
    "# Sets Functions\n"
   ]
  },
  {
   "cell_type": "code",
   "execution_count": 71,
   "metadata": {},
   "outputs": [
    {
     "name": "stdout",
     "output_type": "stream",
     "text": [
      "{'orange', 'grapes', 'banana', 'apple'}\n"
     ]
    }
   ],
   "source": [
    "# 1. add\n",
    "\n",
    "set1 = {'apple','grapes','orange'}\n",
    "set1.add('banana')\n",
    "print(set1)"
   ]
  },
  {
   "cell_type": "code",
   "execution_count": 72,
   "metadata": {},
   "outputs": [
    {
     "name": "stdout",
     "output_type": "stream",
     "text": [
      "set()\n"
     ]
    }
   ],
   "source": [
    "# 2.clear\n",
    "\n",
    "set1.clear();\n",
    "print(set1)"
   ]
  },
  {
   "cell_type": "code",
   "execution_count": 73,
   "metadata": {},
   "outputs": [
    {
     "name": "stdout",
     "output_type": "stream",
     "text": [
      "{'orange', 'grapes', 'apple'}\n"
     ]
    }
   ],
   "source": [
    "#3. copy\n",
    "set1 = {'apple','grapes','orange'}\n",
    "set2 = set1.copy();\n",
    "print(set2);\n"
   ]
  },
  {
   "cell_type": "code",
   "execution_count": 83,
   "metadata": {},
   "outputs": [
    {
     "name": "stdout",
     "output_type": "stream",
     "text": [
      "{'orange', 'grapes'}\n"
     ]
    }
   ],
   "source": [
    "# 4.difference\n",
    "# returns difernce between two sets\n",
    "\n",
    "x = {\"apple\", \"grapes\",\"orange\"}\n",
    "y = {\"google\", \"microsoft\", \"apple\"}\n",
    "z = x.difference(y)\n",
    "print(z);\n"
   ]
  },
  {
   "cell_type": "code",
   "execution_count": 87,
   "metadata": {},
   "outputs": [
    {
     "name": "stdout",
     "output_type": "stream",
     "text": [
      "None\n"
     ]
    }
   ],
   "source": [
    "# 5.differnce update\n",
    "\n",
    "m  = {\"apple\", \"grapes\",\"orange\"}\n",
    "n  = {\"google\", \"microsoft\", \"apple\"}\n",
    "k = m.difference_update(n)\n",
    "print(k);"
   ]
  },
  {
   "cell_type": "code",
   "execution_count": 90,
   "metadata": {},
   "outputs": [
    {
     "name": "stdout",
     "output_type": "stream",
     "text": [
      "{'orange', 'grapes'}\n",
      "{'orange'}\n"
     ]
    }
   ],
   "source": [
    "# 6.discard\n",
    "# removes specifies item\n",
    "\n",
    "print(m);\n",
    "m.discard('grapes');\n",
    "print(m);\n"
   ]
  },
  {
   "cell_type": "code",
   "execution_count": 94,
   "metadata": {},
   "outputs": [
    {
     "name": "stdout",
     "output_type": "stream",
     "text": [
      "{'apple'}\n"
     ]
    }
   ],
   "source": [
    "# 7. intersection\n",
    "\n",
    "m  = {\"apple\", \"grapes\",\"orange\"}\n",
    "z = m.intersection(n)\n",
    "print(z);\n"
   ]
  },
  {
   "cell_type": "code",
   "execution_count": 95,
   "metadata": {},
   "outputs": [
    {
     "name": "stdout",
     "output_type": "stream",
     "text": [
      "orange\n",
      "{'grapes', 'apple'}\n"
     ]
    }
   ],
   "source": [
    "# 8.pop\n",
    "\n",
    "print(m.pop())\n",
    "print(m);"
   ]
  },
  {
   "cell_type": "code",
   "execution_count": 103,
   "metadata": {},
   "outputs": [
    {
     "name": "stdout",
     "output_type": "stream",
     "text": [
      "{'orange', 'grapes'}\n"
     ]
    }
   ],
   "source": [
    "# 9.remove\n",
    "\n",
    "m  = {\"apple\", \"grapes\",\"orange\"}\n",
    "m.remove('apple')\n",
    "print(m);"
   ]
  },
  {
   "cell_type": "code",
   "execution_count": 112,
   "metadata": {},
   "outputs": [
    {
     "name": "stdout",
     "output_type": "stream",
     "text": [
      "{'grapes', 'microsoft', 'orange', 'google', 'apple'}\n"
     ]
    }
   ],
   "source": [
    "# 10.union\n",
    "\n",
    "m  = {\"apple\", \"grapes\",\"orange\"}\n",
    "n  = {\"google\", \"microsoft\", \"apple\"}\n",
    "\n",
    "z=m.union(n);\n",
    "print(z)\n",
    "\n"
   ]
  },
  {
   "cell_type": "markdown",
   "metadata": {},
   "source": [
    "# String Methods\n"
   ]
  },
  {
   "cell_type": "code",
   "execution_count": 117,
   "metadata": {},
   "outputs": [
    {
     "name": "stdout",
     "output_type": "stream",
     "text": [
      "Hello world\n"
     ]
    }
   ],
   "source": [
    "# 1.capitalize\n",
    "# first character in caps\n",
    "\n",
    "str1 = \"hello world\"\n",
    "k = str1.capitalize()\n",
    "print(k)"
   ]
  },
  {
   "cell_type": "code",
   "execution_count": 122,
   "metadata": {},
   "outputs": [
    {
     "name": "stdout",
     "output_type": "stream",
     "text": [
      "hello world world\n"
     ]
    }
   ],
   "source": [
    "# 2.casefold\n",
    "\n",
    "str2 = \"HELLO WORLD WORLD\"\n",
    "k = str2.casefold();\n",
    "print(k);"
   ]
  },
  {
   "cell_type": "code",
   "execution_count": 123,
   "metadata": {},
   "outputs": [
    {
     "name": "stdout",
     "output_type": "stream",
     "text": [
      " HELLO WORLD WORLD  \n"
     ]
    }
   ],
   "source": [
    "# 3. center\n",
    "\n",
    "k = str2.center(20);\n",
    "print(k);"
   ]
  },
  {
   "cell_type": "code",
   "execution_count": 124,
   "metadata": {},
   "outputs": [
    {
     "name": "stdout",
     "output_type": "stream",
     "text": [
      "2\n"
     ]
    }
   ],
   "source": [
    "# 4.count\n",
    "\n",
    "k=str2.count('WORLD');\n",
    "print(k);"
   ]
  },
  {
   "cell_type": "code",
   "execution_count": 127,
   "metadata": {},
   "outputs": [
    {
     "name": "stdout",
     "output_type": "stream",
     "text": [
      "b'HELLO WORLD WORLD'\n"
     ]
    }
   ],
   "source": [
    "# 5.encode\n",
    "\n",
    "k = str2.encode()\n",
    "print(k)"
   ]
  },
  {
   "cell_type": "code",
   "execution_count": 128,
   "metadata": {},
   "outputs": [
    {
     "name": "stdout",
     "output_type": "stream",
     "text": [
      "False\n"
     ]
    }
   ],
   "source": [
    "# 6.islower\n",
    "\n",
    "k =  str2.islower()\n",
    "print(k)\n"
   ]
  },
  {
   "cell_type": "code",
   "execution_count": 129,
   "metadata": {},
   "outputs": [
    {
     "name": "stdout",
     "output_type": "stream",
     "text": [
      "True\n"
     ]
    }
   ],
   "source": [
    "# 6.isupper\n",
    "\n",
    "k =  str2.isupper()\n",
    "print(k)"
   ]
  },
  {
   "cell_type": "code",
   "execution_count": 130,
   "metadata": {},
   "outputs": [
    {
     "name": "stdout",
     "output_type": "stream",
     "text": [
      "False\n"
     ]
    }
   ],
   "source": [
    "# 6.isnumeric\n",
    "\n",
    "k =  str2.isnumeric()\n",
    "print(k)"
   ]
  },
  {
   "cell_type": "code",
   "execution_count": 131,
   "metadata": {},
   "outputs": [
    {
     "name": "stdout",
     "output_type": "stream",
     "text": [
      "False\n"
     ]
    }
   ],
   "source": [
    "# 6.isspace\n",
    "\n",
    "k =  str2.isspace()\n",
    "print(k)"
   ]
  },
  {
   "cell_type": "code",
   "execution_count": null,
   "metadata": {},
   "outputs": [],
   "source": []
  }
 ],
 "metadata": {
  "kernelspec": {
   "display_name": "Python 3",
   "language": "python",
   "name": "python3"
  },
  "language_info": {
   "codemirror_mode": {
    "name": "ipython",
    "version": 3
   },
   "file_extension": ".py",
   "mimetype": "text/x-python",
   "name": "python",
   "nbconvert_exporter": "python",
   "pygments_lexer": "ipython3",
   "version": "3.8.3"
  }
 },
 "nbformat": 4,
 "nbformat_minor": 4
}
